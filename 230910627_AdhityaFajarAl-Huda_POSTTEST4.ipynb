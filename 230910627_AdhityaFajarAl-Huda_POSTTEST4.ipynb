{
 "cells": [
  {
   "cell_type": "markdown",
   "id": "2696076a-c4c3-4798-a78c-0d79ea3508af",
   "metadata": {},
   "source": [
    "Import library"
   ]
  },
  {
   "cell_type": "code",
   "execution_count": 144,
   "id": "43c6c3dc-05a9-47ab-ba7d-06e2db32eacf",
   "metadata": {},
   "outputs": [],
   "source": [
    "import pandas as pd\n",
    "import numpy as np\n",
    "import matplotlib.pyplot as plt\n",
    "import seaborn as sns\n",
    "from sklearn.preprocessing import StandardScaler\n",
    "from sklearn.model_selection import train_test_split\n",
    "from sklearn.linear_model import LinearRegression\n",
    "from sklearn.metrics import mean_squared_error, r2_score\n",
    "from sklearn.metrics import mean_absolute_error, mean_squared_error, r2_score\n",
    "from sklearn.svm import SVR\n",
    "from sklearn.model_selection import GridSearchCV"
   ]
  },
  {
   "cell_type": "markdown",
   "id": "718d69d9-653b-4378-9514-8f53480b5a9f",
   "metadata": {},
   "source": [
    "Read File CSV"
   ]
  },
  {
   "cell_type": "code",
   "execution_count": 119,
   "id": "18b18f0b-dae4-4df8-8066-746907d67e05",
   "metadata": {},
   "outputs": [],
   "source": [
    "df = pd.read_csv(\"auto-mpg.csv\")"
   ]
  },
  {
   "cell_type": "markdown",
   "id": "cf8bd037-ea85-4df4-8617-e027338ef4ea",
   "metadata": {},
   "source": [
    "Convert horsepower karena ada yang non integer"
   ]
  },
  {
   "cell_type": "code",
   "execution_count": 120,
   "id": "2d7816f7-1022-48e8-9bc8-39176aa49151",
   "metadata": {},
   "outputs": [],
   "source": [
    "df['horsepower'] = pd.to_numeric(df['horsepower'], errors='coerce')"
   ]
  },
  {
   "cell_type": "markdown",
   "id": "6d4403ab-c233-40b7-980d-cf8cdb6b8277",
   "metadata": {},
   "source": [
    "Handle Missing Value/Duplikat"
   ]
  },
  {
   "cell_type": "code",
   "execution_count": 121,
   "id": "ecc5d75a-873a-425c-9ed4-29633aeabe08",
   "metadata": {},
   "outputs": [
    {
     "name": "stdout",
     "output_type": "stream",
     "text": [
      "Total missing: mpg             0\n",
      "cylinders       0\n",
      "displacement    0\n",
      "horsepower      0\n",
      "weight          0\n",
      "acceleration    0\n",
      "model year      0\n",
      "origin          0\n",
      "car name        0\n",
      "dtype: int64\n",
      "Jumlah duplikat: 0\n"
     ]
    }
   ],
   "source": [
    "df.isnull().sum()\n",
    "df = df.dropna()\n",
    "print(\"Total missing:\", df.isnull().sum())\n",
    "df.duplicated().sum()\n",
    "df = df.drop_duplicates()\n",
    "print(\"Jumlah duplikat:\", df.duplicated().sum())"
   ]
  },
  {
   "cell_type": "markdown",
   "id": "32f3cfbb-f043-4613-800f-82356909c386",
   "metadata": {},
   "source": [
    "Tes Outlier"
   ]
  },
  {
   "cell_type": "code",
   "execution_count": 122,
   "id": "a131a250-64b0-41d4-8d3b-c8b06e7f51d5",
   "metadata": {},
   "outputs": [
    {
     "name": "stdout",
     "output_type": "stream",
     "text": [
      "Jumlah outlier per kolom numerik:\n",
      "mpg: 0 data\n",
      "cylinders: 0 data\n",
      "displacement: 0 data\n",
      "horsepower: 10 data\n",
      "weight: 0 data\n",
      "acceleration: 11 data\n",
      "model year: 0 data\n",
      "origin: 0 data\n"
     ]
    }
   ],
   "source": [
    "# Mengambil kolom numerik\n",
    "numeric_cols = df.select_dtypes(include=['int64','float64']).columns\n",
    "\n",
    "outlier_summary = {}\n",
    "\n",
    "for col in numeric_cols:\n",
    "    Q1 = df[col].quantile(0.25)\n",
    "    Q3 = df[col].quantile(0.75)\n",
    "    IQR = Q3 - Q1\n",
    "    lower = Q1 - 1.5 * IQR\n",
    "    upper = Q3 + 1.5 * IQR\n",
    "    \n",
    "    # Hitung berapa banyak outlier\n",
    "    outliers = df[(df[col] < lower) | (df[col] > upper)]\n",
    "    outlier_summary[col] = len(outliers)\n",
    "\n",
    "print(\"Jumlah outlier per kolom numerik:\")\n",
    "for k, v in outlier_summary.items():\n",
    "    print(f\"{k}: {v} data\")"
   ]
  },
  {
   "cell_type": "markdown",
   "id": "575bc318-9f16-4898-bea9-17546c8c6418",
   "metadata": {},
   "source": [
    "Tes head"
   ]
  },
  {
   "cell_type": "code",
   "execution_count": 123,
   "id": "5400010e-c92a-47cb-b8fa-61ecc69025b0",
   "metadata": {},
   "outputs": [
    {
     "data": {
      "text/html": [
       "<div>\n",
       "<style scoped>\n",
       "    .dataframe tbody tr th:only-of-type {\n",
       "        vertical-align: middle;\n",
       "    }\n",
       "\n",
       "    .dataframe tbody tr th {\n",
       "        vertical-align: top;\n",
       "    }\n",
       "\n",
       "    .dataframe thead th {\n",
       "        text-align: right;\n",
       "    }\n",
       "</style>\n",
       "<table border=\"1\" class=\"dataframe\">\n",
       "  <thead>\n",
       "    <tr style=\"text-align: right;\">\n",
       "      <th></th>\n",
       "      <th>mpg</th>\n",
       "      <th>cylinders</th>\n",
       "      <th>displacement</th>\n",
       "      <th>horsepower</th>\n",
       "      <th>weight</th>\n",
       "      <th>acceleration</th>\n",
       "      <th>model year</th>\n",
       "      <th>origin</th>\n",
       "      <th>car name</th>\n",
       "    </tr>\n",
       "  </thead>\n",
       "  <tbody>\n",
       "    <tr>\n",
       "      <th>0</th>\n",
       "      <td>18.0</td>\n",
       "      <td>8</td>\n",
       "      <td>307.0</td>\n",
       "      <td>130.0</td>\n",
       "      <td>3504</td>\n",
       "      <td>12.0</td>\n",
       "      <td>70</td>\n",
       "      <td>1</td>\n",
       "      <td>chevrolet chevelle malibu</td>\n",
       "    </tr>\n",
       "    <tr>\n",
       "      <th>1</th>\n",
       "      <td>15.0</td>\n",
       "      <td>8</td>\n",
       "      <td>350.0</td>\n",
       "      <td>165.0</td>\n",
       "      <td>3693</td>\n",
       "      <td>11.5</td>\n",
       "      <td>70</td>\n",
       "      <td>1</td>\n",
       "      <td>buick skylark 320</td>\n",
       "    </tr>\n",
       "    <tr>\n",
       "      <th>2</th>\n",
       "      <td>18.0</td>\n",
       "      <td>8</td>\n",
       "      <td>318.0</td>\n",
       "      <td>150.0</td>\n",
       "      <td>3436</td>\n",
       "      <td>11.0</td>\n",
       "      <td>70</td>\n",
       "      <td>1</td>\n",
       "      <td>plymouth satellite</td>\n",
       "    </tr>\n",
       "    <tr>\n",
       "      <th>3</th>\n",
       "      <td>16.0</td>\n",
       "      <td>8</td>\n",
       "      <td>304.0</td>\n",
       "      <td>150.0</td>\n",
       "      <td>3433</td>\n",
       "      <td>12.0</td>\n",
       "      <td>70</td>\n",
       "      <td>1</td>\n",
       "      <td>amc rebel sst</td>\n",
       "    </tr>\n",
       "    <tr>\n",
       "      <th>4</th>\n",
       "      <td>17.0</td>\n",
       "      <td>8</td>\n",
       "      <td>302.0</td>\n",
       "      <td>140.0</td>\n",
       "      <td>3449</td>\n",
       "      <td>10.5</td>\n",
       "      <td>70</td>\n",
       "      <td>1</td>\n",
       "      <td>ford torino</td>\n",
       "    </tr>\n",
       "  </tbody>\n",
       "</table>\n",
       "</div>"
      ],
      "text/plain": [
       "    mpg  cylinders  displacement  horsepower  weight  acceleration  \\\n",
       "0  18.0          8         307.0       130.0    3504          12.0   \n",
       "1  15.0          8         350.0       165.0    3693          11.5   \n",
       "2  18.0          8         318.0       150.0    3436          11.0   \n",
       "3  16.0          8         304.0       150.0    3433          12.0   \n",
       "4  17.0          8         302.0       140.0    3449          10.5   \n",
       "\n",
       "   model year  origin                   car name  \n",
       "0          70       1  chevrolet chevelle malibu  \n",
       "1          70       1          buick skylark 320  \n",
       "2          70       1         plymouth satellite  \n",
       "3          70       1              amc rebel sst  \n",
       "4          70       1                ford torino  "
      ]
     },
     "execution_count": 123,
     "metadata": {},
     "output_type": "execute_result"
    }
   ],
   "source": [
    "df.head()"
   ]
  },
  {
   "cell_type": "markdown",
   "id": "8f3f2409-4131-4a5a-a07d-6dab6fc5c57c",
   "metadata": {},
   "source": [
    "Feature Engineering"
   ]
  },
  {
   "cell_type": "code",
   "execution_count": 124,
   "id": "af4333d5-552d-4569-80ee-0a02396d1e62",
   "metadata": {},
   "outputs": [
    {
     "name": "stdout",
     "output_type": "stream",
     "text": [
      "   horsepower  acceleration  weight  power_to_weight  displacement_per_cyl  \\\n",
      "0       130.0          12.0    3504         0.037100                38.375   \n",
      "1       165.0          11.5    3693         0.044679                43.750   \n",
      "2       150.0          11.0    3436         0.043655                39.750   \n",
      "3       150.0          12.0    3433         0.043694                38.000   \n",
      "4       140.0          10.5    3449         0.040591                37.750   \n",
      "\n",
      "   cylinder_to_displacement  \n",
      "0                  0.026059  \n",
      "1                  0.022857  \n",
      "2                  0.025157  \n",
      "3                  0.026316  \n",
      "4                  0.026490  \n"
     ]
    }
   ],
   "source": [
    "#Rasio Kekuatan ke berat mobil\n",
    "df['power_to_weight'] = df['horsepower'] / df['weight']\n",
    "\n",
    "# Kapasitas mesin per silinder\n",
    "df['displacement_per_cyl'] = df['displacement'] / df['cylinders']\n",
    "\n",
    "#Rasio jumlah silinder dengan kapasitas mesin\n",
    "df['cylinder_to_displacement'] = df['cylinders'] / df['displacement']\n",
    "\n",
    "print(df[['horsepower', 'acceleration', 'weight', 'power_to_weight','displacement_per_cyl', 'cylinder_to_displacement']].head())"
   ]
  },
  {
   "cell_type": "markdown",
   "id": "fd3ce222-3224-4253-8bb4-2c8a1c3a57b1",
   "metadata": {},
   "source": [
    "Rata-rata, standar deviasi, nilai minimum, nilai maksimum, Q1, Q2, dan Q3 dari attribute bertipe angka"
   ]
  },
  {
   "cell_type": "code",
   "execution_count": 125,
   "id": "b702b2ca-b721-4c40-8371-10941c5cea90",
   "metadata": {},
   "outputs": [
    {
     "name": "stdout",
     "output_type": "stream",
     "text": [
      "                          count         mean         std          min  \\\n",
      "mpg                       392.0    23.445918    7.805007     9.000000   \n",
      "cylinders                 392.0     5.471939    1.705783     3.000000   \n",
      "displacement              392.0   194.411990  104.644004    68.000000   \n",
      "horsepower                392.0   104.469388   38.491160    46.000000   \n",
      "weight                    392.0  2977.584184  849.402560  1613.000000   \n",
      "acceleration              392.0    15.541327    2.758864     8.000000   \n",
      "model year                392.0    75.979592    3.683737    70.000000   \n",
      "origin                    392.0     1.576531    0.805518     1.000000   \n",
      "power_to_weight           392.0     0.034833    0.005935     0.020557   \n",
      "displacement_per_cyl      392.0    33.424639    8.706997    17.000000   \n",
      "cylinder_to_displacement  392.0     0.032076    0.008628     0.017582   \n",
      "\n",
      "                                  25%          50%          75%          max  \\\n",
      "mpg                         17.000000    22.750000    29.000000    46.600000   \n",
      "cylinders                    4.000000     4.000000     8.000000     8.000000   \n",
      "displacement               105.000000   151.000000   275.750000   455.000000   \n",
      "horsepower                  75.000000    93.500000   126.000000   230.000000   \n",
      "weight                    2225.250000  2803.500000  3614.750000  5140.000000   \n",
      "acceleration                13.775000    15.500000    17.025000    24.800000   \n",
      "model year                  73.000000    76.000000    79.000000    82.000000   \n",
      "origin                       1.000000     1.000000     2.000000     3.000000   \n",
      "power_to_weight              0.030820     0.034285     0.038082     0.072910   \n",
      "displacement_per_cyl        25.062500    33.354167    39.000000    56.875000   \n",
      "cylinder_to_displacement     0.025641     0.029981     0.039907     0.058824   \n",
      "\n",
      "                                   Q1           Q2           Q3  \n",
      "mpg                         17.000000    22.750000    29.000000  \n",
      "cylinders                    4.000000     4.000000     8.000000  \n",
      "displacement               105.000000   151.000000   275.750000  \n",
      "horsepower                  75.000000    93.500000   126.000000  \n",
      "weight                    2225.250000  2803.500000  3614.750000  \n",
      "acceleration                13.775000    15.500000    17.025000  \n",
      "model year                  73.000000    76.000000    79.000000  \n",
      "origin                       1.000000     1.000000     2.000000  \n",
      "power_to_weight              0.030820     0.034285     0.038082  \n",
      "displacement_per_cyl        25.062500    33.354167    39.000000  \n",
      "cylinder_to_displacement     0.025641     0.029981     0.039907  \n"
     ]
    }
   ],
   "source": [
    "numeric_df = df.select_dtypes(include='number')\n",
    "\n",
    "desc_stats = numeric_df.describe().T\n",
    "desc_stats[\"Q1\"] = numeric_df.quantile(0.25)\n",
    "desc_stats[\"Q2\"] = numeric_df.quantile(0.50)\n",
    "desc_stats[\"Q3\"] = numeric_df.quantile(0.75)\n",
    "\n",
    "print(desc_stats)"
   ]
  },
  {
   "cell_type": "markdown",
   "id": "687b2eff-b6e1-484c-99e5-9304a40b8bd3",
   "metadata": {},
   "source": [
    "10 record pertama dari dataset dengan attribute bertipe angka"
   ]
  },
  {
   "cell_type": "code",
   "execution_count": 126,
   "id": "d7ef022d-5282-4881-9ca1-c5e84afc53bc",
   "metadata": {},
   "outputs": [
    {
     "name": "stdout",
     "output_type": "stream",
     "text": [
      "\n",
      "10 Data Numerik:\n",
      "     mpg  cylinders  displacement  horsepower  weight  acceleration  \\\n",
      "0  18.0          8         307.0       130.0    3504          12.0   \n",
      "1  15.0          8         350.0       165.0    3693          11.5   \n",
      "2  18.0          8         318.0       150.0    3436          11.0   \n",
      "3  16.0          8         304.0       150.0    3433          12.0   \n",
      "4  17.0          8         302.0       140.0    3449          10.5   \n",
      "5  15.0          8         429.0       198.0    4341          10.0   \n",
      "6  14.0          8         454.0       220.0    4354           9.0   \n",
      "7  14.0          8         440.0       215.0    4312           8.5   \n",
      "8  14.0          8         455.0       225.0    4425          10.0   \n",
      "9  15.0          8         390.0       190.0    3850           8.5   \n",
      "\n",
      "   model year  origin  power_to_weight  displacement_per_cyl  \\\n",
      "0          70       1         0.037100                38.375   \n",
      "1          70       1         0.044679                43.750   \n",
      "2          70       1         0.043655                39.750   \n",
      "3          70       1         0.043694                38.000   \n",
      "4          70       1         0.040591                37.750   \n",
      "5          70       1         0.045612                53.625   \n",
      "6          70       1         0.050528                56.750   \n",
      "7          70       1         0.049861                55.000   \n",
      "8          70       1         0.050847                56.875   \n",
      "9          70       1         0.049351                48.750   \n",
      "\n",
      "   cylinder_to_displacement  \n",
      "0                  0.026059  \n",
      "1                  0.022857  \n",
      "2                  0.025157  \n",
      "3                  0.026316  \n",
      "4                  0.026490  \n",
      "5                  0.018648  \n",
      "6                  0.017621  \n",
      "7                  0.018182  \n",
      "8                  0.017582  \n",
      "9                  0.020513  \n"
     ]
    }
   ],
   "source": [
    "print(\"\\n10 Data Numerik:\\n\", df.select_dtypes(include=np.number).head(10))"
   ]
  },
  {
   "cell_type": "markdown",
   "id": "63b13998-9e81-4e53-a5df-192037594b3b",
   "metadata": {},
   "source": [
    "Informasi jumlah record, jumlah attribute, nama attribute, jumlah attribute dengan tipe angka"
   ]
  },
  {
   "cell_type": "code",
   "execution_count": 127,
   "id": "46db1ef8-7f46-4150-a2af-18a4529ccd97",
   "metadata": {},
   "outputs": [
    {
     "name": "stdout",
     "output_type": "stream",
     "text": [
      "\n",
      "Dataset info:\n",
      "Number of records: 392\n",
      "Number of attributes: 12\n",
      "Attribute names: ['mpg', 'cylinders', 'displacement', 'horsepower', 'weight', 'acceleration', 'model year', 'origin', 'car name', 'power_to_weight', 'displacement_per_cyl', 'cylinder_to_displacement']\n",
      "Number of numeric attributes: 11\n"
     ]
    }
   ],
   "source": [
    "print(\"\\nDataset info:\")\n",
    "print(\"Number of records:\", df.shape[0])\n",
    "print(\"Number of attributes:\", df.shape[1])\n",
    "print(\"Attribute names:\", df.columns.tolist())\n",
    "print(\"Number of numeric attributes:\", df.select_dtypes(include=np.number).shape[1])"
   ]
  },
  {
   "cell_type": "markdown",
   "id": "f2b2d15f-4c30-4ded-8dfc-03db92491c11",
   "metadata": {},
   "source": [
    "Jumlah label dari semua attribute yang bernilai object."
   ]
  },
  {
   "cell_type": "code",
   "execution_count": 128,
   "id": "64df042f-a35e-4126-a936-2c071e181abd",
   "metadata": {},
   "outputs": [
    {
     "name": "stdout",
     "output_type": "stream",
     "text": [
      "Unique labels in car name: 301\n"
     ]
    }
   ],
   "source": [
    "object_columns = df.select_dtypes(include='object').columns\n",
    "for col in object_columns:\n",
    "    print(f\"Unique labels in {col}: {df[col].nunique()}\")"
   ]
  },
  {
   "cell_type": "markdown",
   "id": "1537d4f3-0e48-442a-a30e-a0fd9ed7cb8e",
   "metadata": {},
   "source": [
    "Diagram batang"
   ]
  },
  {
   "cell_type": "code",
   "execution_count": 129,
   "id": "1ec2f252-c489-4e56-8715-239b103236ee",
   "metadata": {},
   "outputs": [
    {
     "name": "stderr",
     "output_type": "stream",
     "text": [
      "C:\\Users\\lenovo\\AppData\\Local\\Temp\\ipykernel_14000\\4024146928.py:4: FutureWarning: \n",
      "\n",
      "Passing `palette` without assigning `hue` is deprecated and will be removed in v0.14.0. Assign the `x` variable to `hue` and set `legend=False` for the same effect.\n",
      "\n",
      "  sns.barplot(x='cylinders', y='mpg', data=mpg_by_cyl, palette=\"viridis\")\n"
     ]
    },
    {
     "data": {
      "image/png": "[encoded data removed]",
      "text/plain": [
       "<Figure size 1000x600 with 1 Axes>"
      ]
     },
     "metadata": {},
     "output_type": "display_data"
    }
   ],
   "source": [
    "mpg_by_cyl = df.groupby('cylinders')['mpg'].mean().reset_index()\n",
    "\n",
    "plt.figure(figsize=(10,6))\n",
    "sns.barplot(x='cylinders', y='mpg', data=mpg_by_cyl, palette=\"viridis\")\n",
    "plt.title('Rata-rata MPG berdasarkan Jumlah Silinder')\n",
    "plt.xlabel('Jumlah Silinder')\n",
    "plt.ylabel('Rata-rata MPG')\n",
    "plt.tight_layout()\n",
    "plt.show()"
   ]
  },
  {
   "cell_type": "markdown",
   "id": "e438ee19-37c7-4af3-821b-59fece15daf4",
   "metadata": {},
   "source": [
    "Heatmap"
   ]
  },
  {
   "cell_type": "code",
   "execution_count": 130,
   "id": "2dac2af7-7376-45e5-8f40-b4fd5b097c00",
   "metadata": {},
   "outputs": [
    {
     "data": {
      "image/png": "[encoded data removed]",
      "text/plain": [
       "<Figure size 1200x800 with 2 Axes>"
      ]
     },
     "metadata": {},
     "output_type": "display_data"
    }
   ],
   "source": [
    "plt.figure(figsize=(12,8))\n",
    "sns.heatmap(df.select_dtypes(include=np.number).corr(), annot=True, cmap='coolwarm', fmt=\".2f\")\n",
    "plt.title('Correlation Heatmap of Numeric Attributes')\n",
    "plt.show()"
   ]
  },
  {
   "cell_type": "markdown",
   "id": "618f8cd5-5200-4473-97cd-b88218ff72c6",
   "metadata": {},
   "source": [
    "Analisis dan kesimpulan\n",
    "-Nilai MPG (Miles per Gallon) bervariasi tergantung jumlah silinder.  \n",
    "-Kendaraan dengan jumlah silinder lebih sedikit cenderung memiliki MPG lebih tinggi, menunjukkan efisiensi bahan bakar lebih baik.\n",
    "-Beberapa atribut seperti `displacement` dan `horsepower` juga berpengaruh terhadap MPG.\n",
    "-Jumlah kendaraan dengan 4 silinder paling banyak dibandingkan dengan yang 6 atau 8 silinder.  \n",
    "-Visualisasi batang menunjukkan tren jelas bahwa kendaraan dengan lebih banyak silinder umumnya lebih boros bahan bakar."
   ]
  },
  {
   "cell_type": "markdown",
   "id": "33c9ba37-d7ea-44f2-bce5-4d7805d3692c",
   "metadata": {},
   "source": [
    "Encoding Kolom Kategorikal"
   ]
  },
  {
   "cell_type": "code",
   "execution_count": 131,
   "id": "f37642c8-0ed9-4467-9533-6061f1699522",
   "metadata": {},
   "outputs": [
    {
     "name": "stdout",
     "output_type": "stream",
     "text": [
      "     mpg  cylinders  displacement  horsepower  weight  acceleration  \\\n",
      "0   18.0          8         307.0       130.0    3504          12.0   \n",
      "1   15.0          8         350.0       165.0    3693          11.5   \n",
      "2   18.0          8         318.0       150.0    3436          11.0   \n",
      "3   16.0          8         304.0       150.0    3433          12.0   \n",
      "4   17.0          8         302.0       140.0    3449          10.5   \n",
      "5   15.0          8         429.0       198.0    4341          10.0   \n",
      "6   14.0          8         454.0       220.0    4354           9.0   \n",
      "7   14.0          8         440.0       215.0    4312           8.5   \n",
      "8   14.0          8         455.0       225.0    4425          10.0   \n",
      "9   15.0          8         390.0       190.0    3850           8.5   \n",
      "10  15.0          8         383.0       170.0    3563          10.0   \n",
      "11  14.0          8         340.0       160.0    3609           8.0   \n",
      "12  15.0          8         400.0       150.0    3761           9.5   \n",
      "13  14.0          8         455.0       225.0    3086          10.0   \n",
      "14  24.0          4         113.0        95.0    2372          15.0   \n",
      "15  22.0          6         198.0        95.0    2833          15.5   \n",
      "16  18.0          6         199.0        97.0    2774          15.5   \n",
      "17  21.0          6         200.0        85.0    2587          16.0   \n",
      "18  27.0          4          97.0        88.0    2130          14.5   \n",
      "19  26.0          4          97.0        46.0    1835          20.5   \n",
      "20  25.0          4         110.0        87.0    2672          17.5   \n",
      "21  24.0          4         107.0        90.0    2430          14.5   \n",
      "22  25.0          4         104.0        95.0    2375          17.5   \n",
      "23  26.0          4         121.0       113.0    2234          12.5   \n",
      "24  21.0          6         199.0        90.0    2648          15.0   \n",
      "25  10.0          8         360.0       215.0    4615          14.0   \n",
      "26  10.0          8         307.0       200.0    4376          15.0   \n",
      "27  11.0          8         318.0       210.0    4382          13.5   \n",
      "28   9.0          8         304.0       193.0    4732          18.5   \n",
      "29  27.0          4          97.0        88.0    2130          14.5   \n",
      "\n",
      "    model year                      car name  power_to_weight  \\\n",
      "0           70     chevrolet chevelle malibu         0.037100   \n",
      "1           70             buick skylark 320         0.044679   \n",
      "2           70            plymouth satellite         0.043655   \n",
      "3           70                 amc rebel sst         0.043694   \n",
      "4           70                   ford torino         0.040591   \n",
      "5           70              ford galaxie 500         0.045612   \n",
      "6           70              chevrolet impala         0.050528   \n",
      "7           70             plymouth fury iii         0.049861   \n",
      "8           70              pontiac catalina         0.050847   \n",
      "9           70            amc ambassador dpl         0.049351   \n",
      "10          70           dodge challenger se         0.047713   \n",
      "11          70            plymouth 'cuda 340         0.044334   \n",
      "12          70         chevrolet monte carlo         0.039883   \n",
      "13          70       buick estate wagon (sw)         0.072910   \n",
      "14          70         toyota corona mark ii         0.040051   \n",
      "15          70               plymouth duster         0.033533   \n",
      "16          70                    amc hornet         0.034968   \n",
      "17          70                 ford maverick         0.032857   \n",
      "18          70                  datsun pl510         0.041315   \n",
      "19          70  volkswagen 1131 deluxe sedan         0.025068   \n",
      "20          70                   peugeot 504         0.032560   \n",
      "21          70                   audi 100 ls         0.037037   \n",
      "22          70                      saab 99e         0.040000   \n",
      "23          70                      bmw 2002         0.050582   \n",
      "24          70                   amc gremlin         0.033988   \n",
      "25          70                     ford f250         0.046587   \n",
      "26          70                     chevy c20         0.045704   \n",
      "27          70                    dodge d200         0.047923   \n",
      "28          70                      hi 1200d         0.040786   \n",
      "29          71                  datsun pl510         0.041315   \n",
      "\n",
      "    displacement_per_cyl  cylinder_to_displacement  origin_1  origin_2  \\\n",
      "0              38.375000                  0.026059      True     False   \n",
      "1              43.750000                  0.022857      True     False   \n",
      "2              39.750000                  0.025157      True     False   \n",
      "3              38.000000                  0.026316      True     False   \n",
      "4              37.750000                  0.026490      True     False   \n",
      "5              53.625000                  0.018648      True     False   \n",
      "6              56.750000                  0.017621      True     False   \n",
      "7              55.000000                  0.018182      True     False   \n",
      "8              56.875000                  0.017582      True     False   \n",
      "9              48.750000                  0.020513      True     False   \n",
      "10             47.875000                  0.020888      True     False   \n",
      "11             42.500000                  0.023529      True     False   \n",
      "12             50.000000                  0.020000      True     False   \n",
      "13             56.875000                  0.017582      True     False   \n",
      "14             28.250000                  0.035398     False     False   \n",
      "15             33.000000                  0.030303      True     False   \n",
      "16             33.166667                  0.030151      True     False   \n",
      "17             33.333333                  0.030000      True     False   \n",
      "18             24.250000                  0.041237     False     False   \n",
      "19             24.250000                  0.041237     False      True   \n",
      "20             27.500000                  0.036364     False      True   \n",
      "21             26.750000                  0.037383     False      True   \n",
      "22             26.000000                  0.038462     False      True   \n",
      "23             30.250000                  0.033058     False      True   \n",
      "24             33.166667                  0.030151      True     False   \n",
      "25             45.000000                  0.022222      True     False   \n",
      "26             38.375000                  0.026059      True     False   \n",
      "27             39.750000                  0.025157      True     False   \n",
      "28             38.000000                  0.026316      True     False   \n",
      "29             24.250000                  0.041237     False     False   \n",
      "\n",
      "    origin_3  \n",
      "0      False  \n",
      "1      False  \n",
      "2      False  \n",
      "3      False  \n",
      "4      False  \n",
      "5      False  \n",
      "6      False  \n",
      "7      False  \n",
      "8      False  \n",
      "9      False  \n",
      "10     False  \n",
      "11     False  \n",
      "12     False  \n",
      "13     False  \n",
      "14      True  \n",
      "15     False  \n",
      "16     False  \n",
      "17     False  \n",
      "18      True  \n",
      "19     False  \n",
      "20     False  \n",
      "21     False  \n",
      "22     False  \n",
      "23     False  \n",
      "24     False  \n",
      "25     False  \n",
      "26     False  \n",
      "27     False  \n",
      "28     False  \n",
      "29      True  \n"
     ]
    }
   ],
   "source": [
    "df = pd.get_dummies(df, columns=['origin'])\n",
    "print(df.head(30))"
   ]
  },
  {
   "cell_type": "markdown",
   "id": "7d1f99a1-a5ee-454d-bd82-867157895629",
   "metadata": {},
   "source": [
    "Menentukan fitur apa yang dipakai dan target yang diprediksi"
   ]
  },
  {
   "cell_type": "code",
   "execution_count": 132,
   "id": "c42ad6f9-1c36-48a2-9ea0-2f4488fa7948",
   "metadata": {},
   "outputs": [],
   "source": [
    "X = df[['cylinders', 'displacement', 'horsepower', 'weight', 'acceleration']]\n",
    "y = df['mpg']"
   ]
  },
  {
   "cell_type": "markdown",
   "id": "17b89781-2709-4b26-a57e-286b7e89c75e",
   "metadata": {},
   "source": [
    "Split data"
   ]
  },
  {
   "cell_type": "code",
   "execution_count": 133,
   "id": "933428bf-6513-453a-9f08-4e67abe4c372",
   "metadata": {},
   "outputs": [
    {
     "name": "stdout",
     "output_type": "stream",
     "text": [
      "Jumlah data total: 392\n",
      "Training set: 313\n",
      "Testing set: 79\n"
     ]
    }
   ],
   "source": [
    "X = df[['displacement','horsepower','weight','acceleration']]\n",
    "y = df['mpg']\n",
    "\n",
    "X_train, X_test, y_train, y_test = train_test_split(\n",
    "    X, y, test_size=0.2, random_state=42\n",
    ")\n",
    "print(\"Jumlah data total:\", len(df))\n",
    "print(\"Training set:\", len(X_train))\n",
    "print(\"Testing set:\", len(X_test))"
   ]
  },
  {
   "cell_type": "markdown",
   "id": "984d30f6-a0d8-4d0e-8061-af6fdab4dc88",
   "metadata": {},
   "source": [
    "Normalisasi Kolom Numerik"
   ]
  },
  {
   "cell_type": "code",
   "execution_count": 134,
   "id": "8d6fdf62-affd-434e-959f-295557ecd3f5",
   "metadata": {},
   "outputs": [],
   "source": [
    "scaler = StandardScaler()\n",
    "X_train_scaled = scaler.fit_transform(X_train)\n",
    "X_test_scaled  = scaler.transform(X_test)"
   ]
  },
  {
   "cell_type": "markdown",
   "id": "8120e1a1-54ae-4363-be07-08d890587f1c",
   "metadata": {},
   "source": [
    "Membuat dan Melatih model (Linear Regression)"
   ]
  },
  {
   "cell_type": "code",
   "execution_count": 135,
   "id": "83a15e41-30c7-4272-8104-543a535238c2",
   "metadata": {},
   "outputs": [],
   "source": [
    "model = LinearRegression()\n",
    "model.fit(X_train, y_train)\n",
    "y_pred = model.predict(X_test)"
   ]
  },
  {
   "cell_type": "markdown",
   "id": "c113df0b-08d6-4dc6-80c0-1b836fdacc4b",
   "metadata": {},
   "source": [
    "Evaluasi Model (MAE/MSE/RMSE/R2-Score)"
   ]
  },
  {
   "cell_type": "code",
   "execution_count": 136,
   "id": "ad94e5e9-8288-4e18-b917-177d51156fad",
   "metadata": {},
   "outputs": [
    {
     "name": "stdout",
     "output_type": "stream",
     "text": [
      "\n",
      " Evaluasi Linear Regression:\n",
      "MAE  : 3.510\n",
      "MSE  : 18.066\n",
      "RMSE : 4.250\n",
      "R²   : 0.646\n"
     ]
    }
   ],
   "source": [
    "def evaluate_model(y_true, y_pred, model_name):\n",
    "    mae = mean_absolute_error(y_true, y_pred)\n",
    "    mse = mean_squared_error(y_true, y_pred)\n",
    "    rmse = np.sqrt(mse)\n",
    "    r2 = r2_score(y_true, y_pred)\n",
    "\n",
    "    print(f\"\\n Evaluasi {model_name}:\")\n",
    "    print(f\"MAE  : {mae:.3f}\")\n",
    "    print(f\"MSE  : {mse:.3f}\")\n",
    "    print(f\"RMSE : {rmse:.3f}\")\n",
    "    print(f\"R²   : {r2:.3f}\")\n",
    "\n",
    "# Evaluasi keduanya\n",
    "evaluate_model(y_test, y_pred, \"Linear Regression\")"
   ]
  },
  {
   "cell_type": "markdown",
   "id": "48df7880-aa8b-4bda-9a84-fad58675f340",
   "metadata": {},
   "source": [
    "Plot hasil Prediksi dan nilai asli"
   ]
  },
  {
   "cell_type": "code",
   "execution_count": 137,
   "id": "7c2e0209-5b8b-4df6-be4c-3e34b36c3365",
   "metadata": {},
   "outputs": [
    {
     "data": {
      "image/png": "[encoded data removed]",
      "text/plain": [
       "<Figure size 1000x500 with 1 Axes>"
      ]
     },
     "metadata": {},
     "output_type": "display_data"
    }
   ],
   "source": [
    "plt.figure(figsize=(10,5))\n",
    "\n",
    "# Plot Linear Regression\n",
    "plt.subplot(1, 2, 1)\n",
    "plt.scatter(y_test, y_pred, color='blue', alpha=0.6)\n",
    "plt.plot([y_test.min(), y_test.max()], [y_test.min(), y_test.max()], 'r--')\n",
    "plt.title('Linear Regression: Prediksi vs Asli')\n",
    "plt.xlabel('Nilai Asli (mpg)')\n",
    "plt.ylabel('Prediksi (mpg)')\n",
    "\n",
    "plt.tight_layout()\n",
    "plt.show()"
   ]
  },
  {
   "cell_type": "markdown",
   "id": "609d65d5-c6b9-4f56-b59b-dfe8b4e43d4c",
   "metadata": {},
   "source": [
    "tes fitur ngaruh atau tidak"
   ]
  },
  {
   "cell_type": "code",
   "execution_count": 138,
   "id": "09ef1b6a-0061-4cf0-9e4c-327ea938b973",
   "metadata": {},
   "outputs": [
    {
     "name": "stdout",
     "output_type": "stream",
     "text": [
      "        Feature  Coefficient\n",
      "2        weight    -0.005023\n",
      "0  displacement    -0.009351\n",
      "1    horsepower    -0.048472\n",
      "3  acceleration    -0.059428\n"
     ]
    }
   ],
   "source": [
    "coef_df = pd.DataFrame({\n",
    "    'Feature': X.columns,\n",
    "    'Coefficient': model.coef_\n",
    "}).sort_values(by='Coefficient', ascending=False)\n",
    "print(coef_df)"
   ]
  },
  {
   "cell_type": "markdown",
   "id": "a19823c1-bb1f-470d-96c3-cf2a9cb1e664",
   "metadata": {},
   "source": [
    "mencari parameter terbaik untuk svr"
   ]
  },
  {
   "cell_type": "code",
   "execution_count": 145,
   "id": "b523c47f-f458-448f-84fc-5b7b8ba039a1",
   "metadata": {},
   "outputs": [
    {
     "name": "stdout",
     "output_type": "stream",
     "text": [
      "Fitting 5 folds for each of 48 candidates, totalling 240 fits\n",
      "Best Parameters: {'C': 100, 'epsilon': 0.05, 'gamma': 0.1}\n",
      "Best CV R²: 0.7579605910600746\n",
      "R² on Test Data: 0.670\n"
     ]
    }
   ],
   "source": [
    "param_grid = {\n",
    "    'C': [1, 10, 50, 100],\n",
    "    'gamma': [0.01, 0.1, 0.5, 1],\n",
    "    'epsilon': [0.05, 0.1, 0.2]\n",
    "}\n",
    "\n",
    "grid = GridSearchCV(SVR(kernel='rbf'), param_grid, cv=5, scoring='r2', verbose=1, n_jobs=-1)\n",
    "grid.fit(X_train_scaled, y_train)\n",
    "\n",
    "print(\"Best Parameters:\", grid.best_params_)\n",
    "print(\"Best CV R²:\", grid.best_score_)\n",
    "\n",
    "best_svr = grid.best_estimator_\n",
    "y_pred_best = best_svr.predict(X_test_scaled)\n",
    "\n",
    "r2_best = r2_score(y_test, y_pred_best)\n",
    "print(f\"R² on Test Data: {r2_best:.3f}\")"
   ]
  },
  {
   "cell_type": "markdown",
   "id": "43bc83d4-21b5-4f3c-9b63-a83320531f12",
   "metadata": {},
   "source": [
    "Inisialisasi Model (SVR)"
   ]
  },
  {
   "cell_type": "code",
   "execution_count": 151,
   "id": "3845556b-e5ac-413b-8b86-2a7a12376a9d",
   "metadata": {},
   "outputs": [],
   "source": [
    "svr = SVR(kernel='rbf', C=100, gamma=0.1, epsilon=0.05)"
   ]
  },
  {
   "cell_type": "markdown",
   "id": "135aa292-47f7-4377-ad86-71516b2af8ac",
   "metadata": {},
   "source": [
    "Latih model SVR"
   ]
  },
  {
   "cell_type": "code",
   "execution_count": 153,
   "id": "de97be30-3b4b-42fb-bcec-314ca34eb588",
   "metadata": {},
   "outputs": [
    {
     "data": {
      "text/html": [
       "<style>#sk-container-id-4 {\n",
       "  /* Definition of color scheme common for light and dark mode */\n",
       "  --sklearn-color-text: #000;\n",
       "  --sklearn-color-text-muted: #666;\n",
       "  --sklearn-color-line: gray;\n",
       "  /* Definition of color scheme for unfitted estimators */\n",
       "  --sklearn-color-unfitted-level-0: #fff5e6;\n",
       "  --sklearn-color-unfitted-level-1: #f6e4d2;\n",
       "  --sklearn-color-unfitted-level-2: #ffe0b3;\n",
       "  --sklearn-color-unfitted-level-3: chocolate;\n",
       "  /* Definition of color scheme for fitted estimators */\n",
       "  --sklearn-color-fitted-level-0: #f0f8ff;\n",
       "  --sklearn-color-fitted-level-1: #d4ebff;\n",
       "  --sklearn-color-fitted-level-2: #b3dbfd;\n",
       "  --sklearn-color-fitted-level-3: cornflowerblue;\n",
       "\n",
       "  /* Specific color for light theme */\n",
       "  --sklearn-color-text-on-default-background: var(--sg-text-color, var(--theme-code-foreground, var(--jp-content-font-color1, black)));\n",
       "  --sklearn-color-background: var(--sg-background-color, var(--theme-background, var(--jp-layout-color0, white)));\n",
       "  --sklearn-color-border-box: var(--sg-text-color, var(--theme-code-foreground, var(--jp-content-font-color1, black)));\n",
       "  --sklearn-color-icon: #696969;\n",
       "\n",
       "  @media (prefers-color-scheme: dark) {\n",
       "    /* Redefinition of color scheme for dark theme */\n",
       "    --sklearn-color-text-on-default-background: var(--sg-text-color, var(--theme-code-foreground, var(--jp-content-font-color1, white)));\n",
       "    --sklearn-color-background: var(--sg-background-color, var(--theme-background, var(--jp-layout-color0, #111)));\n",
       "    --sklearn-color-border-box: var(--sg-text-color, var(--theme-code-foreground, var(--jp-content-font-color1, white)));\n",
       "    --sklearn-color-icon: #878787;\n",
       "  }\n",
       "}\n",
       "\n",
       "#sk-container-id-4 {\n",
       "  color: var(--sklearn-color-text);\n",
       "}\n",
       "\n",
       "#sk-container-id-4 pre {\n",
       "  padding: 0;\n",
       "}\n",
       "\n",
       "#sk-container-id-4 input.sk-hidden--visually {\n",
       "  border: 0;\n",
       "  clip: rect(1px 1px 1px 1px);\n",
       "  clip: rect(1px, 1px, 1px, 1px);\n",
       "  height: 1px;\n",
       "  margin: -1px;\n",
       "  overflow: hidden;\n",
       "  padding: 0;\n",
       "  position: absolute;\n",
       "  width: 1px;\n",
       "}\n",
       "\n",
       "#sk-container-id-4 div.sk-dashed-wrapped {\n",
       "  border: 1px dashed var(--sklearn-color-line);\n",
       "  margin: 0 0.4em 0.5em 0.4em;\n",
       "  box-sizing: border-box;\n",
       "  padding-bottom: 0.4em;\n",
       "  background-color: var(--sklearn-color-background);\n",
       "}\n",
       "\n",
       "#sk-container-id-4 div.sk-container {\n",
       "  /* jupyter's `normalize.less` sets `[hidden] { display: none; }`\n",
       "     but bootstrap.min.css set `[hidden] { display: none !important; }`\n",
       "     so we also need the `!important` here to be able to override the\n",
       "     default hidden behavior on the sphinx rendered scikit-learn.org.\n",
       "     See: https://github.com/scikit-learn/scikit-learn/issues/21755 */\n",
       "  display: inline-block !important;\n",
       "  position: relative;\n",
       "}\n",
       "\n",
       "#sk-container-id-4 div.sk-text-repr-fallback {\n",
       "  display: none;\n",
       "}\n",
       "\n",
       "div.sk-parallel-item,\n",
       "div.sk-serial,\n",
       "div.sk-item {\n",
       "  /* draw centered vertical line to link estimators */\n",
       "  background-image: linear-gradient(var(--sklearn-color-text-on-default-background), var(--sklearn-color-text-on-default-background));\n",
       "  background-size: 2px 100%;\n",
       "  background-repeat: no-repeat;\n",
       "  background-position: center center;\n",
       "}\n",
       "\n",
       "/* Parallel-specific style estimator block */\n",
       "\n",
       "#sk-container-id-4 div.sk-parallel-item::after {\n",
       "  content: \"\";\n",
       "  width: 100%;\n",
       "  border-bottom: 2px solid var(--sklearn-color-text-on-default-background);\n",
       "  flex-grow: 1;\n",
       "}\n",
       "\n",
       "#sk-container-id-4 div.sk-parallel {\n",
       "  display: flex;\n",
       "  align-items: stretch;\n",
       "  justify-content: center;\n",
       "  background-color: var(--sklearn-color-background);\n",
       "  position: relative;\n",
       "}\n",
       "\n",
       "#sk-container-id-4 div.sk-parallel-item {\n",
       "  display: flex;\n",
       "  flex-direction: column;\n",
       "}\n",
       "\n",
       "#sk-container-id-4 div.sk-parallel-item:first-child::after {\n",
       "  align-self: flex-end;\n",
       "  width: 50%;\n",
       "}\n",
       "\n",
       "#sk-container-id-4 div.sk-parallel-item:last-child::after {\n",
       "  align-self: flex-start;\n",
       "  width: 50%;\n",
       "}\n",
       "\n",
       "#sk-container-id-4 div.sk-parallel-item:only-child::after {\n",
       "  width: 0;\n",
       "}\n",
       "\n",
       "/* Serial-specific style estimator block */\n",
       "\n",
       "#sk-container-id-4 div.sk-serial {\n",
       "  display: flex;\n",
       "  flex-direction: column;\n",
       "  align-items: center;\n",
       "  background-color: var(--sklearn-color-background);\n",
       "  padding-right: 1em;\n",
       "  padding-left: 1em;\n",
       "}\n",
       "\n",
       "\n",
       "/* Toggleable style: style used for estimator/Pipeline/ColumnTransformer box that is\n",
       "clickable and can be expanded/collapsed.\n",
       "- Pipeline and ColumnTransformer use this feature and define the default style\n",
       "- Estimators will overwrite some part of the style using the `sk-estimator` class\n",
       "*/\n",
       "\n",
       "/* Pipeline and ColumnTransformer style (default) */\n",
       "\n",
       "#sk-container-id-4 div.sk-toggleable {\n",
       "  /* Default theme specific background. It is overwritten whether we have a\n",
       "  specific estimator or a Pipeline/ColumnTransformer */\n",
       "  background-color: var(--sklearn-color-background);\n",
       "}\n",
       "\n",
       "/* Toggleable label */\n",
       "#sk-container-id-4 label.sk-toggleable__label {\n",
       "  cursor: pointer;\n",
       "  display: flex;\n",
       "  width: 100%;\n",
       "  margin-bottom: 0;\n",
       "  padding: 0.5em;\n",
       "  box-sizing: border-box;\n",
       "  text-align: center;\n",
       "  align-items: start;\n",
       "  justify-content: space-between;\n",
       "  gap: 0.5em;\n",
       "}\n",
       "\n",
       "#sk-container-id-4 label.sk-toggleable__label .caption {\n",
       "  font-size: 0.6rem;\n",
       "  font-weight: lighter;\n",
       "  color: var(--sklearn-color-text-muted);\n",
       "}\n",
       "\n",
       "#sk-container-id-4 label.sk-toggleable__label-arrow:before {\n",
       "  /* Arrow on the left of the label */\n",
       "  content: \"▸\";\n",
       "  float: left;\n",
       "  margin-right: 0.25em;\n",
       "  color: var(--sklearn-color-icon);\n",
       "}\n",
       "\n",
       "#sk-container-id-4 label.sk-toggleable__label-arrow:hover:before {\n",
       "  color: var(--sklearn-color-text);\n",
       "}\n",
       "\n",
       "/* Toggleable content - dropdown */\n",
       "\n",
       "#sk-container-id-4 div.sk-toggleable__content {\n",
       "  display: none;\n",
       "  text-align: left;\n",
       "  /* unfitted */\n",
       "  background-color: var(--sklearn-color-unfitted-level-0);\n",
       "}\n",
       "\n",
       "#sk-container-id-4 div.sk-toggleable__content.fitted {\n",
       "  /* fitted */\n",
       "  background-color: var(--sklearn-color-fitted-level-0);\n",
       "}\n",
       "\n",
       "#sk-container-id-4 div.sk-toggleable__content pre {\n",
       "  margin: 0.2em;\n",
       "  border-radius: 0.25em;\n",
       "  color: var(--sklearn-color-text);\n",
       "  /* unfitted */\n",
       "  background-color: var(--sklearn-color-unfitted-level-0);\n",
       "}\n",
       "\n",
       "#sk-container-id-4 div.sk-toggleable__content.fitted pre {\n",
       "  /* unfitted */\n",
       "  background-color: var(--sklearn-color-fitted-level-0);\n",
       "}\n",
       "\n",
       "#sk-container-id-4 input.sk-toggleable__control:checked~div.sk-toggleable__content {\n",
       "  /* Expand drop-down */\n",
       "  display: block;\n",
       "  width: 100%;\n",
       "  overflow: visible;\n",
       "}\n",
       "\n",
       "#sk-container-id-4 input.sk-toggleable__control:checked~label.sk-toggleable__label-arrow:before {\n",
       "  content: \"▾\";\n",
       "}\n",
       "\n",
       "/* Pipeline/ColumnTransformer-specific style */\n",
       "\n",
       "#sk-container-id-4 div.sk-label input.sk-toggleable__control:checked~label.sk-toggleable__label {\n",
       "  color: var(--sklearn-color-text);\n",
       "  background-color: var(--sklearn-color-unfitted-level-2);\n",
       "}\n",
       "\n",
       "#sk-container-id-4 div.sk-label.fitted input.sk-toggleable__control:checked~label.sk-toggleable__label {\n",
       "  background-color: var(--sklearn-color-fitted-level-2);\n",
       "}\n",
       "\n",
       "/* Estimator-specific style */\n",
       "\n",
       "/* Colorize estimator box */\n",
       "#sk-container-id-4 div.sk-estimator input.sk-toggleable__control:checked~label.sk-toggleable__label {\n",
       "  /* unfitted */\n",
       "  background-color: var(--sklearn-color-unfitted-level-2);\n",
       "}\n",
       "\n",
       "#sk-container-id-4 div.sk-estimator.fitted input.sk-toggleable__control:checked~label.sk-toggleable__label {\n",
       "  /* fitted */\n",
       "  background-color: var(--sklearn-color-fitted-level-2);\n",
       "}\n",
       "\n",
       "#sk-container-id-4 div.sk-label label.sk-toggleable__label,\n",
       "#sk-container-id-4 div.sk-label label {\n",
       "  /* The background is the default theme color */\n",
       "  color: var(--sklearn-color-text-on-default-background);\n",
       "}\n",
       "\n",
       "/* On hover, darken the color of the background */\n",
       "#sk-container-id-4 div.sk-label:hover label.sk-toggleable__label {\n",
       "  color: var(--sklearn-color-text);\n",
       "  background-color: var(--sklearn-color-unfitted-level-2);\n",
       "}\n",
       "\n",
       "/* Label box, darken color on hover, fitted */\n",
       "#sk-container-id-4 div.sk-label.fitted:hover label.sk-toggleable__label.fitted {\n",
       "  color: var(--sklearn-color-text);\n",
       "  background-color: var(--sklearn-color-fitted-level-2);\n",
       "}\n",
       "\n",
       "/* Estimator label */\n",
       "\n",
       "#sk-container-id-4 div.sk-label label {\n",
       "  font-family: monospace;\n",
       "  font-weight: bold;\n",
       "  display: inline-block;\n",
       "  line-height: 1.2em;\n",
       "}\n",
       "\n",
       "#sk-container-id-4 div.sk-label-container {\n",
       "  text-align: center;\n",
       "}\n",
       "\n",
       "/* Estimator-specific */\n",
       "#sk-container-id-4 div.sk-estimator {\n",
       "  font-family: monospace;\n",
       "  border: 1px dotted var(--sklearn-color-border-box);\n",
       "  border-radius: 0.25em;\n",
       "  box-sizing: border-box;\n",
       "  margin-bottom: 0.5em;\n",
       "  /* unfitted */\n",
       "  background-color: var(--sklearn-color-unfitted-level-0);\n",
       "}\n",
       "\n",
       "#sk-container-id-4 div.sk-estimator.fitted {\n",
       "  /* fitted */\n",
       "  background-color: var(--sklearn-color-fitted-level-0);\n",
       "}\n",
       "\n",
       "/* on hover */\n",
       "#sk-container-id-4 div.sk-estimator:hover {\n",
       "  /* unfitted */\n",
       "  background-color: var(--sklearn-color-unfitted-level-2);\n",
       "}\n",
       "\n",
       "#sk-container-id-4 div.sk-estimator.fitted:hover {\n",
       "  /* fitted */\n",
       "  background-color: var(--sklearn-color-fitted-level-2);\n",
       "}\n",
       "\n",
       "/* Specification for estimator info (e.g. \"i\" and \"?\") */\n",
       "\n",
       "/* Common style for \"i\" and \"?\" */\n",
       "\n",
       ".sk-estimator-doc-link,\n",
       "a:link.sk-estimator-doc-link,\n",
       "a:visited.sk-estimator-doc-link {\n",
       "  float: right;\n",
       "  font-size: smaller;\n",
       "  line-height: 1em;\n",
       "  font-family: monospace;\n",
       "  background-color: var(--sklearn-color-background);\n",
       "  border-radius: 1em;\n",
       "  height: 1em;\n",
       "  width: 1em;\n",
       "  text-decoration: none !important;\n",
       "  margin-left: 0.5em;\n",
       "  text-align: center;\n",
       "  /* unfitted */\n",
       "  border: var(--sklearn-color-unfitted-level-1) 1pt solid;\n",
       "  color: var(--sklearn-color-unfitted-level-1);\n",
       "}\n",
       "\n",
       ".sk-estimator-doc-link.fitted,\n",
       "a:link.sk-estimator-doc-link.fitted,\n",
       "a:visited.sk-estimator-doc-link.fitted {\n",
       "  /* fitted */\n",
       "  border: var(--sklearn-color-fitted-level-1) 1pt solid;\n",
       "  color: var(--sklearn-color-fitted-level-1);\n",
       "}\n",
       "\n",
       "/* On hover */\n",
       "div.sk-estimator:hover .sk-estimator-doc-link:hover,\n",
       ".sk-estimator-doc-link:hover,\n",
       "div.sk-label-container:hover .sk-estimator-doc-link:hover,\n",
       ".sk-estimator-doc-link:hover {\n",
       "  /* unfitted */\n",
       "  background-color: var(--sklearn-color-unfitted-level-3);\n",
       "  color: var(--sklearn-color-background);\n",
       "  text-decoration: none;\n",
       "}\n",
       "\n",
       "div.sk-estimator.fitted:hover .sk-estimator-doc-link.fitted:hover,\n",
       ".sk-estimator-doc-link.fitted:hover,\n",
       "div.sk-label-container:hover .sk-estimator-doc-link.fitted:hover,\n",
       ".sk-estimator-doc-link.fitted:hover {\n",
       "  /* fitted */\n",
       "  background-color: var(--sklearn-color-fitted-level-3);\n",
       "  color: var(--sklearn-color-background);\n",
       "  text-decoration: none;\n",
       "}\n",
       "\n",
       "/* Span, style for the box shown on hovering the info icon */\n",
       ".sk-estimator-doc-link span {\n",
       "  display: none;\n",
       "  z-index: 9999;\n",
       "  position: relative;\n",
       "  font-weight: normal;\n",
       "  right: .2ex;\n",
       "  padding: .5ex;\n",
       "  margin: .5ex;\n",
       "  width: min-content;\n",
       "  min-width: 20ex;\n",
       "  max-width: 50ex;\n",
       "  color: var(--sklearn-color-text);\n",
       "  box-shadow: 2pt 2pt 4pt #999;\n",
       "  /* unfitted */\n",
       "  background: var(--sklearn-color-unfitted-level-0);\n",
       "  border: .5pt solid var(--sklearn-color-unfitted-level-3);\n",
       "}\n",
       "\n",
       ".sk-estimator-doc-link.fitted span {\n",
       "  /* fitted */\n",
       "  background: var(--sklearn-color-fitted-level-0);\n",
       "  border: var(--sklearn-color-fitted-level-3);\n",
       "}\n",
       "\n",
       ".sk-estimator-doc-link:hover span {\n",
       "  display: block;\n",
       "}\n",
       "\n",
       "/* \"?\"-specific style due to the `<a>` HTML tag */\n",
       "\n",
       "#sk-container-id-4 a.estimator_doc_link {\n",
       "  float: right;\n",
       "  font-size: 1rem;\n",
       "  line-height: 1em;\n",
       "  font-family: monospace;\n",
       "  background-color: var(--sklearn-color-background);\n",
       "  border-radius: 1rem;\n",
       "  height: 1rem;\n",
       "  width: 1rem;\n",
       "  text-decoration: none;\n",
       "  /* unfitted */\n",
       "  color: var(--sklearn-color-unfitted-level-1);\n",
       "  border: var(--sklearn-color-unfitted-level-1) 1pt solid;\n",
       "}\n",
       "\n",
       "#sk-container-id-4 a.estimator_doc_link.fitted {\n",
       "  /* fitted */\n",
       "  border: var(--sklearn-color-fitted-level-1) 1pt solid;\n",
       "  color: var(--sklearn-color-fitted-level-1);\n",
       "}\n",
       "\n",
       "/* On hover */\n",
       "#sk-container-id-4 a.estimator_doc_link:hover {\n",
       "  /* unfitted */\n",
       "  background-color: var(--sklearn-color-unfitted-level-3);\n",
       "  color: var(--sklearn-color-background);\n",
       "  text-decoration: none;\n",
       "}\n",
       "\n",
       "#sk-container-id-4 a.estimator_doc_link.fitted:hover {\n",
       "  /* fitted */\n",
       "  background-color: var(--sklearn-color-fitted-level-3);\n",
       "}\n",
       "\n",
       ".estimator-table summary {\n",
       "    padding: .5rem;\n",
       "    font-family: monospace;\n",
       "    cursor: pointer;\n",
       "}\n",
       "\n",
       ".estimator-table details[open] {\n",
       "    padding-left: 0.1rem;\n",
       "    padding-right: 0.1rem;\n",
       "    padding-bottom: 0.3rem;\n",
       "}\n",
       "\n",
       ".estimator-table .parameters-table {\n",
       "    margin-left: auto !important;\n",
       "    margin-right: auto !important;\n",
       "}\n",
       "\n",
       ".estimator-table .parameters-table tr:nth-child(odd) {\n",
       "    background-color: #fff;\n",
       "}\n",
       "\n",
       ".estimator-table .parameters-table tr:nth-child(even) {\n",
       "    background-color: #f6f6f6;\n",
       "}\n",
       "\n",
       ".estimator-table .parameters-table tr:hover {\n",
       "    background-color: #e0e0e0;\n",
       "}\n",
       "\n",
       ".estimator-table table td {\n",
       "    border: 1px solid rgba(106, 105, 104, 0.232);\n",
       "}\n",
       "\n",
       ".user-set td {\n",
       "    color:rgb(255, 94, 0);\n",
       "    text-align: left;\n",
       "}\n",
       "\n",
       ".user-set td.value pre {\n",
       "    color:rgb(255, 94, 0) !important;\n",
       "    background-color: transparent !important;\n",
       "}\n",
       "\n",
       ".default td {\n",
       "    color: black;\n",
       "    text-align: left;\n",
       "}\n",
       "\n",
       ".user-set td i,\n",
       ".default td i {\n",
       "    color: black;\n",
       "}\n",
       "\n",
       ".copy-paste-icon {\n",
       "    background-image: url(data:image/svg+xml;base64,PHN2ZyB4bWxucz0iaHR0cDovL3d3dy53My5vcmcvMjAwMC9zdmciIHZpZXdCb3g9IjAgMCA0NDggNTEyIj48IS0tIUZvbnQgQXdlc29tZSBGcmVlIDYuNy4yIGJ5IEBmb250YXdlc29tZSAtIGh0dHBzOi8vZm9udGF3ZXNvbWUuY29tIExpY2Vuc2UgLSBodHRwczovL2ZvbnRhd2Vzb21lLmNvbS9saWNlbnNlL2ZyZWUgQ29weXJpZ2h0IDIwMjUgRm9udGljb25zLCBJbmMuLS0+PHBhdGggZD0iTTIwOCAwTDMzMi4xIDBjMTIuNyAwIDI0LjkgNS4xIDMzLjkgMTQuMWw2Ny45IDY3LjljOSA5IDE0LjEgMjEuMiAxNC4xIDMzLjlMNDQ4IDMzNmMwIDI2LjUtMjEuNSA0OC00OCA0OGwtMTkyIDBjLTI2LjUgMC00OC0yMS41LTQ4LTQ4bDAtMjg4YzAtMjYuNSAyMS41LTQ4IDQ4LTQ4ek00OCAxMjhsODAgMCAwIDY0LTY0IDAgMCAyNTYgMTkyIDAgMC0zMiA2NCAwIDAgNDhjMCAyNi41LTIxLjUgNDgtNDggNDhMNDggNTEyYy0yNi41IDAtNDgtMjEuNS00OC00OEwwIDE3NmMwLTI2LjUgMjEuNS00OCA0OC00OHoiLz48L3N2Zz4=);\n",
       "    background-repeat: no-repeat;\n",
       "    background-size: 14px 14px;\n",
       "    background-position: 0;\n",
       "    display: inline-block;\n",
       "    width: 14px;\n",
       "    height: 14px;\n",
       "    cursor: pointer;\n",
       "}\n",
       "</style><body><div id=\"sk-container-id-4\" class=\"sk-top-container\"><div class=\"sk-text-repr-fallback\"><pre>SVR(C=100, epsilon=0.05, gamma=0.1)</pre><b>In a Jupyter environment, please rerun this cell to show the HTML representation or trust the notebook. <br />On GitHub, the HTML representation is unable to render, please try loading this page with nbviewer.org.</b></div><div class=\"sk-container\" hidden><div class=\"sk-item\"><div class=\"sk-estimator fitted sk-toggleable\"><input class=\"sk-toggleable__control sk-hidden--visually\" id=\"sk-estimator-id-4\" type=\"checkbox\" checked><label for=\"sk-estimator-id-4\" class=\"sk-toggleable__label fitted sk-toggleable__label-arrow\"><div><div>SVR</div></div><div><a class=\"sk-estimator-doc-link fitted\" rel=\"noreferrer\" target=\"_blank\" href=\"https://scikit-learn.org/1.7/modules/generated/sklearn.svm.SVR.html\">?<span>Documentation for SVR</span></a><span class=\"sk-estimator-doc-link fitted\">i<span>Fitted</span></span></div></label><div class=\"sk-toggleable__content fitted\" data-param-prefix=\"\">\n",
       "        <div class=\"estimator-table\">\n",
       "            <details>\n",
       "                <summary>Parameters</summary>\n",
       "                <table class=\"parameters-table\">\n",
       "                  <tbody>\n",
       "                    \n",
       "        <tr class=\"default\">\n",
       "            <td><i class=\"copy-paste-icon\"\n",
       "                 onclick=\"copyToClipboard('kernel',\n",
       "                          this.parentElement.nextElementSibling)\"\n",
       "            ></i></td>\n",
       "            <td class=\"param\">kernel&nbsp;</td>\n",
       "            <td class=\"value\">&#x27;rbf&#x27;</td>\n",
       "        </tr>\n",
       "    \n",
       "\n",
       "        <tr class=\"default\">\n",
       "            <td><i class=\"copy-paste-icon\"\n",
       "                 onclick=\"copyToClipboard('degree',\n",
       "                          this.parentElement.nextElementSibling)\"\n",
       "            ></i></td>\n",
       "            <td class=\"param\">degree&nbsp;</td>\n",
       "            <td class=\"value\">3</td>\n",
       "        </tr>\n",
       "    \n",
       "\n",
       "        <tr class=\"user-set\">\n",
       "            <td><i class=\"copy-paste-icon\"\n",
       "                 onclick=\"copyToClipboard('gamma',\n",
       "                          this.parentElement.nextElementSibling)\"\n",
       "            ></i></td>\n",
       "            <td class=\"param\">gamma&nbsp;</td>\n",
       "            <td class=\"value\">0.1</td>\n",
       "        </tr>\n",
       "    \n",
       "\n",
       "        <tr class=\"default\">\n",
       "            <td><i class=\"copy-paste-icon\"\n",
       "                 onclick=\"copyToClipboard('coef0',\n",
       "                          this.parentElement.nextElementSibling)\"\n",
       "            ></i></td>\n",
       "            <td class=\"param\">coef0&nbsp;</td>\n",
       "            <td class=\"value\">0.0</td>\n",
       "        </tr>\n",
       "    \n",
       "\n",
       "        <tr class=\"default\">\n",
       "            <td><i class=\"copy-paste-icon\"\n",
       "                 onclick=\"copyToClipboard('tol',\n",
       "                          this.parentElement.nextElementSibling)\"\n",
       "            ></i></td>\n",
       "            <td class=\"param\">tol&nbsp;</td>\n",
       "            <td class=\"value\">0.001</td>\n",
       "        </tr>\n",
       "    \n",
       "\n",
       "        <tr class=\"user-set\">\n",
       "            <td><i class=\"copy-paste-icon\"\n",
       "                 onclick=\"copyToClipboard('C',\n",
       "                          this.parentElement.nextElementSibling)\"\n",
       "            ></i></td>\n",
       "            <td class=\"param\">C&nbsp;</td>\n",
       "            <td class=\"value\">100</td>\n",
       "        </tr>\n",
       "    \n",
       "\n",
       "        <tr class=\"user-set\">\n",
       "            <td><i class=\"copy-paste-icon\"\n",
       "                 onclick=\"copyToClipboard('epsilon',\n",
       "                          this.parentElement.nextElementSibling)\"\n",
       "            ></i></td>\n",
       "            <td class=\"param\">epsilon&nbsp;</td>\n",
       "            <td class=\"value\">0.05</td>\n",
       "        </tr>\n",
       "    \n",
       "\n",
       "        <tr class=\"default\">\n",
       "            <td><i class=\"copy-paste-icon\"\n",
       "                 onclick=\"copyToClipboard('shrinking',\n",
       "                          this.parentElement.nextElementSibling)\"\n",
       "            ></i></td>\n",
       "            <td class=\"param\">shrinking&nbsp;</td>\n",
       "            <td class=\"value\">True</td>\n",
       "        </tr>\n",
       "    \n",
       "\n",
       "        <tr class=\"default\">\n",
       "            <td><i class=\"copy-paste-icon\"\n",
       "                 onclick=\"copyToClipboard('cache_size',\n",
       "                          this.parentElement.nextElementSibling)\"\n",
       "            ></i></td>\n",
       "            <td class=\"param\">cache_size&nbsp;</td>\n",
       "            <td class=\"value\">200</td>\n",
       "        </tr>\n",
       "    \n",
       "\n",
       "        <tr class=\"default\">\n",
       "            <td><i class=\"copy-paste-icon\"\n",
       "                 onclick=\"copyToClipboard('verbose',\n",
       "                          this.parentElement.nextElementSibling)\"\n",
       "            ></i></td>\n",
       "            <td class=\"param\">verbose&nbsp;</td>\n",
       "            <td class=\"value\">False</td>\n",
       "        </tr>\n",
       "    \n",
       "\n",
       "        <tr class=\"default\">\n",
       "            <td><i class=\"copy-paste-icon\"\n",
       "                 onclick=\"copyToClipboard('max_iter',\n",
       "                          this.parentElement.nextElementSibling)\"\n",
       "            ></i></td>\n",
       "            <td class=\"param\">max_iter&nbsp;</td>\n",
       "            <td class=\"value\">-1</td>\n",
       "        </tr>\n",
       "    \n",
       "                  </tbody>\n",
       "                </table>\n",
       "            </details>\n",
       "        </div>\n",
       "    </div></div></div></div></div><script>function copyToClipboard(text, element) {\n",
       "    // Get the parameter prefix from the closest toggleable content\n",
       "    const toggleableContent = element.closest('.sk-toggleable__content');\n",
       "    const paramPrefix = toggleableContent ? toggleableContent.dataset.paramPrefix : '';\n",
       "    const fullParamName = paramPrefix ? `${paramPrefix}${text}` : text;\n",
       "\n",
       "    const originalStyle = element.style;\n",
       "    const computedStyle = window.getComputedStyle(element);\n",
       "    const originalWidth = computedStyle.width;\n",
       "    const originalHTML = element.innerHTML.replace('Copied!', '');\n",
       "\n",
       "    navigator.clipboard.writeText(fullParamName)\n",
       "        .then(() => {\n",
       "            element.style.width = originalWidth;\n",
       "            element.style.color = 'green';\n",
       "            element.innerHTML = \"Copied!\";\n",
       "\n",
       "            setTimeout(() => {\n",
       "                element.innerHTML = originalHTML;\n",
       "                element.style = originalStyle;\n",
       "            }, 2000);\n",
       "        })\n",
       "        .catch(err => {\n",
       "            console.error('Failed to copy:', err);\n",
       "            element.style.color = 'red';\n",
       "            element.innerHTML = \"Failed!\";\n",
       "            setTimeout(() => {\n",
       "                element.innerHTML = originalHTML;\n",
       "                element.style = originalStyle;\n",
       "            }, 2000);\n",
       "        });\n",
       "    return false;\n",
       "}\n",
       "\n",
       "document.querySelectorAll('.fa-regular.fa-copy').forEach(function(element) {\n",
       "    const toggleableContent = element.closest('.sk-toggleable__content');\n",
       "    const paramPrefix = toggleableContent ? toggleableContent.dataset.paramPrefix : '';\n",
       "    const paramName = element.parentElement.nextElementSibling.textContent.trim();\n",
       "    const fullParamName = paramPrefix ? `${paramPrefix}${paramName}` : paramName;\n",
       "\n",
       "    element.setAttribute('title', fullParamName);\n",
       "});\n",
       "</script></body>"
      ],
      "text/plain": [
       "SVR(C=100, epsilon=0.05, gamma=0.1)"
      ]
     },
     "execution_count": 153,
     "metadata": {},
     "output_type": "execute_result"
    }
   ],
   "source": [
    "svr.fit(X_train_scaled, y_train)"
   ]
  },
  {
   "cell_type": "markdown",
   "id": "0b63c09a-2a13-4765-b713-eec7c7cbdb04",
   "metadata": {},
   "source": [
    "Prediksi"
   ]
  },
  {
   "cell_type": "code",
   "execution_count": 154,
   "id": "11138d63-b026-42a7-8929-c584070c22c9",
   "metadata": {},
   "outputs": [],
   "source": [
    "y_pred_svr = svr.predict(X_test_scaled)"
   ]
  },
  {
   "cell_type": "markdown",
   "id": "6b722276-4ef1-4c63-95ff-b802dcc42841",
   "metadata": {},
   "source": [
    "Evaluasi SVR"
   ]
  },
  {
   "cell_type": "code",
   "execution_count": 155,
   "id": "83b2014e-8abf-47d3-9cc3-81bf932b71b7",
   "metadata": {},
   "outputs": [
    {
     "name": "stdout",
     "output_type": "stream",
     "text": [
      "Evaluasi Support Vector Regressor (RBF Kernel):\n",
      "MAE  : 2.840\n",
      "MSE  : 16.835\n",
      "RMSE : 4.103\n",
      "R²   : 0.670\n"
     ]
    }
   ],
   "source": [
    "mae = mean_absolute_error(y_test, y_pred_svr)\n",
    "mse = mean_squared_error(y_test, y_pred_svr)\n",
    "rmse = np.sqrt(mse)\n",
    "r2 = r2_score(y_test, y_pred_svr)\n",
    "\n",
    "print(f\"Evaluasi Support Vector Regressor (RBF Kernel):\")\n",
    "print(f\"MAE  : {mae:.3f}\")\n",
    "print(f\"MSE  : {mse:.3f}\")\n",
    "print(f\"RMSE : {rmse:.3f}\")\n",
    "print(f\"R²   : {r2:.3f}\")"
   ]
  },
  {
   "cell_type": "markdown",
   "id": "8eec2ddd-ad87-47f0-ba51-42557a5f96d9",
   "metadata": {},
   "source": [
    "Plot Hasil Prediksi dari SVR"
   ]
  },
  {
   "cell_type": "code",
   "execution_count": 156,
   "id": "a7c80258-6737-4d8d-96b1-4c9c67e6963c",
   "metadata": {},
   "outputs": [
    {
     "data": {
      "image/png": "[encoded data removed]",
      "text/plain": [
       "<Figure size 640x480 with 1 Axes>"
      ]
     },
     "metadata": {},
     "output_type": "display_data"
    }
   ],
   "source": [
    "plt.subplot(1, 2, 2)\n",
    "plt.scatter(y_test, y_pred_svr, color='green', alpha=0.6)\n",
    "plt.plot([y_test.min(), y_test.max()], [y_test.min(), y_test.max()], 'r--')\n",
    "plt.title('SVR: Prediksi vs Asli')\n",
    "plt.xlabel('Nilai Asli (mpg)')\n",
    "plt.ylabel('Prediksi (mpg)')\n",
    "\n",
    "plt.tight_layout()\n",
    "plt.show()"
   ]
  },
  {
   "cell_type": "markdown",
   "id": "0c2537c3-751a-450a-9f2f-88a4a70af530",
   "metadata": {},
   "source": [
    "Penjelasan dari linear vs SVR\n",
    "\n",
    "Berdasarkanhasil evaluasi, model Linear Regression menghasilkan nilai MAE sebesar 3.51, MSE sebesar 18.06, RMSE sebesar 4.25, dan R² sebesar 0.646, yang berarti prediksi model menyimpang 3.5 dan model mampu menjelaskan sekitar 64.6% variasi dalam data.\n",
    "Sedangkan SVR, menghasilkan nilai MAE sebesar 2.84, MSE sebesar 16.835, RMSE sebesar 4.103, dan R² sebesar 0.670, yang dimana berarti SVR lebih akurat dibandingkan dengan Linear Regression"
   ]
  }
 ],
 "metadata": {
  "kernelspec": {
   "display_name": "Fajar_027",
   "language": "python",
   "name": "fajar_027"
  },
  "language_info": {
   "codemirror_mode": {
    "name": "ipython",
    "version": 3
   },
   "file_extension": ".py",
   "mimetype": "text/x-python",
   "name": "python",
   "nbconvert_exporter": "python",
   "pygments_lexer": "ipython3",
   "version": "3.10.7"
  }
 },
 "nbformat": 4,
 "nbformat_minor": 5
}
